{
 "cells": [
  {
   "cell_type": "markdown",
   "id": "2bb061c2",
   "metadata": {},
   "source": [
    "<div style=\"background-color: #002676; padding: 20px;\">\n",
    "<img src=\"https://live-masters-in-computational-social-science.pantheon.berkeley.edu/wp-content/uploads/2025/04/image-3-2.png\" alt=\"MaCSS\" width=\"200\">\n",
    "</div>\n",
    "\n",
    "# **Assignment 2:** A mini report on social media\n",
    "\n",
    "[wdtmacss@berkeley.edu](mailto:wdtmacss@berkeley.edu)\\\n",
    "**Computational Social Science 1A**\\\n",
    "[Human Psychology and Social Technologies](https://classes.berkeley.edu/content/2025-fall-compss-214a-001-lec-001) \n",
    "Fall 2025\\\n",
    "UC Berkeley [Masters in Computational Social Science](https://macss.berkeley.edu/about/)\n",
    "\n",
    "\n",
    "---\n",
    "**Table of Contents**\n",
    "\n",
    "1. [Assignment Instructions](#instructions)\n",
    "2. [TikTok Study](#tiktok-study)\n",
    "3. [Reddit Rules](#reddit-rules)\n",
    "4. [Bluesky API](#bluesky)\n",
    "---"
   ]
  },
  {
   "cell_type": "markdown",
   "id": "289baeae",
   "metadata": {},
   "source": [
    "# Instructions\n",
    "Please complete the sections below. You can edit this notebook directly. When you area ready to submit, please create a pdf of your notebook by following the instrucitons below:\n",
    "\n",
    "* Render your notebook file in a browser (just open it in your datahub and run all the cells).\n",
    "* Download the notebook at an HTML file\n",
    "* Open the HTML file in  a browser\n",
    "* Save the page as a PDF\n",
    "\n",
    "You can then upload your pdf to the Assignment 2 submission system on BCourses. "
   ]
  },
  {
   "cell_type": "markdown",
   "id": "cda0aa7b",
   "metadata": {},
   "source": [
    "# Tiktok Study\n",
    "In week two, we read and discussed the following research:\n",
    "\n",
    "Baumann, F., Arora, N., Rahwan, I., & Czaplicka, A. (2025). [Dynamics of Algorithmic Content Amplification on TikTok](https://arxiv.org/pdf/2503.20231v1). arXiv preprint arXiv:2503.20231.\n",
    "\n",
    "Identify at least one imoprtant limitation of the study. How could it be improved? Your answer should be relatively brief (e.g. 150 words would be fine)."
   ]
  },
  {
   "cell_type": "markdown",
   "id": "dec68d3f",
   "metadata": {},
   "source": [
    "\n",
    "Limitations: This study employed the \"sock-puppet bots\" methodology. However, bot behavior cannot fully replicate human behavior. Bots can only selectively watch videos based on human-inputted interest directives. In contrast, humans browsing TikTok do not exclusively watch content aligned with their interests; they may also engage with videos from uninteresting domains due to other factors. Consequently, using bots for experiments may undermine the validity of investigating TikTok's content recommendation patterns.\n",
    "\n",
    "Improvements: Future research could recruit human participants for experiments or conduct interviews with a subset of users. Additionally, bots could be trained based on participant responses to replicate the complexity of human video selection during viewing. In addition to this, longitudinal tracking can also be conducted on human participants (e.g., over several weeks to months) to document how the interaction between their initial interests and algorithmically recommended content gradually alters their browsing behaviors. By integrating a dynamic feedback model, we can simulate how the algorithm adjusts its recommendation strategies based on users' real-time behaviors (e.g., dwell time, interaction frequency), thereby uncovering the bidirectional reinforcement process between \"interests and recommendations.\""
   ]
  },
  {
   "cell_type": "markdown",
   "id": "f2c47462",
   "metadata": {},
   "source": [
    "# Reddit Rules\n",
    "\n",
    "Recall question five from [Notebook 2](https://github.com/ccs-ucb/CSS1AF25/blob/main/notebooks/notebook-2-social-media-tiktok.ipynb), quoted below.\n",
    "\n",
    "> **Q5** For this class, I was hoping to make your class projects a combination of Reddit data and LLM analyses. In particular, I was planning to ask everybody to choose a subreddit they enjoy, to download some posts from that subreddit using the API, then pass these posts to a Large Language Model AI system such as ChatGPT, so that we can study how the language model responds to real world questions. \n",
    "\n",
    "Under the current Reddit terms, would such a project be allowable? if not, why not?"
   ]
  },
  {
   "cell_type": "markdown",
   "id": "2e4dc56a",
   "metadata": {},
   "source": [
    "It may depends on the situation. Reddit's User Agreement and API terms explicitly prohibit using its data for commercial purposes without prior consent. Even if your project is academic, if the LLM analysis could be interpreted as having commercial potential (e.g., for research publications, industry collaborations, or future monetization), it may violate these terms.\n",
    "So if such a project not comply with the restrictions it sets, it may not be allowable. But if it follows the rules of Reddit restrictly, then it may be allowable."
   ]
  },
  {
   "cell_type": "markdown",
   "id": "928025ad",
   "metadata": {},
   "source": [
    "# Bluesky User Report\n",
    "In [Notebook 3](https://github.com/ccs-ucb/CSS1AF25/blob/main/notebooks/notebook-3-social-media-bluesky.ipynb), you wrote a brief report on a user from Bluesky.\n",
    "\n",
    "1. Copy the report into this notebook.\n",
    "2. Write a brief reflection on how easy or difficult you found the coding excersises. Were you able to write code to interact with the Bluesky API? If so, say a little about the code your wrote. If not, say what you tried, and what went wrong. "
   ]
  },
  {
   "cell_type": "markdown",
   "id": "db8057d8",
   "metadata": {},
   "source": [
    "\n",
    "1. My user is \"JENNIE KIM BRASIL\". It has not posted any post for a long time. It mostly posts promotional content about the K-pop star Jennie Kim. It follows 26 people. No, they do not follow it. Yes, the people it follow are popular since they have many followers.\n",
    "\n",
    "2. I find it easy to follow the steps that is on the notebook. I suprisingly found that I can interact with the Bluesky API and got the posts that I have posted on the Bluesky."
   ]
  },
  {
   "cell_type": "markdown",
   "id": "960efeaa",
   "metadata": {},
   "source": [
    "# Any additional feedback or reflections?"
   ]
  },
  {
   "cell_type": "markdown",
   "id": "a004c76e",
   "metadata": {},
   "source": [
    "> Your answer goes here. This part is optional."
   ]
  },
  {
   "cell_type": "markdown",
   "id": "2cdc210b",
   "metadata": {},
   "source": []
  }
 ],
 "metadata": {
  "language_info": {
   "name": "python"
  }
 },
 "nbformat": 4,
 "nbformat_minor": 5
}
